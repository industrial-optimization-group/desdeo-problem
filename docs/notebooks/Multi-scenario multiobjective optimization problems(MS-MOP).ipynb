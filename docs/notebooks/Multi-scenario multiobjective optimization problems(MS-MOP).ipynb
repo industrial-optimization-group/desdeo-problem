{
 "cells": [
  {
   "attachments": {},
   "cell_type": "markdown",
   "id": "f213d561",
   "metadata": {},
   "source": [
    "# Multi-scenario multiobjective optimization problems\n",
    "\n",
    "The DESDEO framework supports handling multiple scenarios in multiobjective optimization problems applicable in scenario planning and decision-making under deep uncertainty. Indeed, these problems can be formulated as a multiobjective optimization problem where an objective function is a combination of scenarios and objectives called a meta-objective function. Then, one can use most of the available solution methods in DESDEO to solve the formulated problem. \n",
    "\n",
    "Here, we want to show how a multi-scenario multiobjective optimization problem can be added and solved with available interactive multiobjective methods in DESDEO.\n",
    "\n",
    "We consider the following problem:"
   ]
  },
  {
   "attachments": {},
   "cell_type": "markdown",
   "id": "0dcfb38f",
   "metadata": {},
   "source": [
    "**Problem description:**\n",
    "\n",
    "The river pollution problem [1] considers a river close to a city. \n",
    "There are two sources of pollution: industrial pollution from a \n",
    "fishery and municipal waste from the city and two treatment plants \n",
    "(in the fishery and the city). The pollution is reported in pounds of \n",
    "biochemical oxygen demanding material (BOD), and water quality is \n",
    "measured in dissolved oxygen concentration (DO).\n",
    "\n",
    "Cleaning water in the city increases tax rate, and cleaning in the \n",
    "fishery reduces the return on investment. The problem is to improve \n",
    "the DO level in the city and at the municipality border (f1 and f2, respectively)\n",
    "while, at the same time, maximizing the percent return on investment at the fishery (f3)\n",
    "and minimizing addition to the city tax (f4).\n",
    "\n",
    "Decision variables are:\n",
    "\n",
    "* $ x_1 $:the proportional amounts of BOD removed from water after the fishery(treatment plant1)\n",
    "* $ x_2 $:the proportional amounts of BOD removed from water after the city(treatment plant2)\n",
    "\n",
    "\n",
    "The original problem [1] considered certain values for all the parameters. In this paper, we assume some of the parameters are deeply uncertain, and only a range of plausible values is known for each. These deeply uncertain parameters are as follows:\n",
    "\n",
    "* $ a (\\alpha) \\in [3, 4.24]$, Water quality index after the fishery.\n",
    "\n",
    "* $ b (\\beta) \\in [2.25, 2.4]$, BOD reduction rate at treatment plant 1 (after fishery).\n",
    "\n",
    "* $ d (\\delta) \\in [0.075, 0.092]$, BOD reduction rate at treatment plant 2 (after the city).\n",
    "\n",
    "* $ e (\\xi) \\in [0.067, 0.083]$, The effective rate of BOD reduction at treatment plant 1 after the city.\n",
    "\n",
    "* $ h (\\eta)  \\in [1.2, 1.50]$, Another parameter that uses to calculate the effective BOD reduction rate at the second treatment plant.\n",
    "\n",
    "* $ m (r) \\in [5.1, 12.5]$, Investment return rate.\n",
    "\n",
    "Then, the uncertain version of the river problem has been formulated as follows [2]:\n",
    "\n",
    "$$\n",
    "\\begin{equation}\\\n",
    "\\begin{array}{rll}\\\n",
    "\\text{maximize}  & f_1({\\mathbf{x}}) =& \\alpha + (log((\\frac{\\beta}{2} - 1.14)^2) + \\beta^3) x_1 \\\\ % - 4.07 - 2.27 x_1 \n",
    "\\text{maximize}  & f_2({\\mathbf{x}}) =& \\gamma + \\delta x_1  + \\xi x_2  + \\frac{0.01}{\\eta - x_1^2} + \\frac{0.30}{\\eta - x_2^2} \\\\ \n",
    "\\text{maximize}  & f_3({\\mathbf{x}}) =&  r - \\frac{0.71}{1.09 - x_1^2} \\\\ \n",
    "\\text{mininimize}  & f_4({\\mathbf{x}}) =& - 0.96 + \\frac{0.96}{1.09 - x_2^2} \\\\ \n",
    "\\text{subject to}  && 0.3 \\leq x_1, x_2 \\leq 1.0, \\\\\n",
    "\\end{array}\\\n",
    "\\end{equation}\n",
    "$$\n",
    "where $\\gamma = log((\\frac{\\alpha}{2}-1)) + \\frac{\\alpha}{2} + 1.5$.\n",
    "\n",
    "\n",
    "[1] S. C. Narula and H. R. Weistroffer, ‘‘A flexible method for nonlinear multicriteria decision-making problems,’’ IEEE Trans. Syst., Man, Cybern.,\n",
    "vol. 19, no. 4, pp. 883–887, Jul. 1989.\n",
    "\n",
    "[2] B. Shavazipour, J. H. Kwakkel, K. Miettinen, ‘‘Let decision-makers direct the search for robust solutions: An interactive framework for multiobjective robust optimization under deep uncertainty,’’ submitted."
   ]
  },
  {
   "attachments": {},
   "cell_type": "markdown",
   "id": "0de92650",
   "metadata": {},
   "source": [
    "Let us start with importing required objects and classes and intializing the problem."
   ]
  },
  {
   "cell_type": "code",
   "execution_count": 8,
   "id": "cbff5256",
   "metadata": {},
   "outputs": [],
   "source": [
    "import numpy as np\n",
    "import pandas as pd\n",
    "\n",
    "from desdeo_problem.problem.Variable import Variable\n",
    "from desdeo_problem.problem.Objective import VectorObjective\n",
    "from desdeo_problem.problem.Problem import MOProblem\n",
    "from desdeo_mcdm.utilities import payoff_table_method"
   ]
  },
  {
   "attachments": {},
   "cell_type": "markdown",
   "id": "197b43db",
   "metadata": {},
   "source": [
    "Now, we read previously selected scenarios to be considered in the multi-scenario multiobjective optimization problem (the selected scenarios are the same as the ones considered in [2]).\n",
    "\n",
    "* Alternatively one can define/update them (as a PandaDataFrame) manually, by changing the values of deeply uncertain parameters in the ranges mentioened above."
   ]
  },
  {
   "cell_type": "code",
   "execution_count": 9,
   "id": "80ae2f09",
   "metadata": {},
   "outputs": [
    {
     "data": {
      "text/html": [
       "<div>\n",
       "<style scoped>\n",
       "    .dataframe tbody tr th:only-of-type {\n",
       "        vertical-align: middle;\n",
       "    }\n",
       "\n",
       "    .dataframe tbody tr th {\n",
       "        vertical-align: top;\n",
       "    }\n",
       "\n",
       "    .dataframe thead th {\n",
       "        text-align: right;\n",
       "    }\n",
       "</style>\n",
       "<table border=\"1\" class=\"dataframe\">\n",
       "  <thead>\n",
       "    <tr style=\"text-align: right;\">\n",
       "      <th></th>\n",
       "      <th>Scenario_num</th>\n",
       "      <th>a</th>\n",
       "      <th>b</th>\n",
       "      <th>c</th>\n",
       "      <th>d</th>\n",
       "      <th>e</th>\n",
       "      <th>h</th>\n",
       "      <th>m</th>\n",
       "    </tr>\n",
       "  </thead>\n",
       "  <tbody>\n",
       "    <tr>\n",
       "      <th>0</th>\n",
       "      <td>1</td>\n",
       "      <td>4.070</td>\n",
       "      <td>2.270</td>\n",
       "      <td>3.600</td>\n",
       "      <td>0.0800</td>\n",
       "      <td>0.0750</td>\n",
       "      <td>1.39</td>\n",
       "      <td>8.21</td>\n",
       "    </tr>\n",
       "    <tr>\n",
       "      <th>1</th>\n",
       "      <td>2</td>\n",
       "      <td>3.868</td>\n",
       "      <td>2.262</td>\n",
       "      <td>3.700</td>\n",
       "      <td>0.0869</td>\n",
       "      <td>0.0782</td>\n",
       "      <td>1.47</td>\n",
       "      <td>10.28</td>\n",
       "    </tr>\n",
       "    <tr>\n",
       "      <th>2</th>\n",
       "      <td>3</td>\n",
       "      <td>3.620</td>\n",
       "      <td>2.278</td>\n",
       "      <td>3.324</td>\n",
       "      <td>0.0835</td>\n",
       "      <td>0.0750</td>\n",
       "      <td>1.23</td>\n",
       "      <td>5.84</td>\n",
       "    </tr>\n",
       "    <tr>\n",
       "      <th>3</th>\n",
       "      <td>4</td>\n",
       "      <td>3.372</td>\n",
       "      <td>2.254</td>\n",
       "      <td>4.076</td>\n",
       "      <td>0.0903</td>\n",
       "      <td>0.0814</td>\n",
       "      <td>1.35</td>\n",
       "      <td>11.76</td>\n",
       "    </tr>\n",
       "    <tr>\n",
       "      <th>4</th>\n",
       "      <td>5</td>\n",
       "      <td>3.124</td>\n",
       "      <td>2.270</td>\n",
       "      <td>3.888</td>\n",
       "      <td>0.0801</td>\n",
       "      <td>0.0686</td>\n",
       "      <td>1.29</td>\n",
       "      <td>7.32</td>\n",
       "    </tr>\n",
       "    <tr>\n",
       "      <th>5</th>\n",
       "      <td>6</td>\n",
       "      <td>4.116</td>\n",
       "      <td>2.286</td>\n",
       "      <td>3.512</td>\n",
       "      <td>0.0767</td>\n",
       "      <td>0.0718</td>\n",
       "      <td>1.41</td>\n",
       "      <td>8.80</td>\n",
       "    </tr>\n",
       "  </tbody>\n",
       "</table>\n",
       "</div>"
      ],
      "text/plain": [
       "   Scenario_num      a      b      c       d       e     h      m\n",
       "0             1  4.070  2.270  3.600  0.0800  0.0750  1.39   8.21\n",
       "1             2  3.868  2.262  3.700  0.0869  0.0782  1.47  10.28\n",
       "2             3  3.620  2.278  3.324  0.0835  0.0750  1.23   5.84\n",
       "3             4  3.372  2.254  4.076  0.0903  0.0814  1.35  11.76\n",
       "4             5  3.124  2.270  3.888  0.0801  0.0686  1.29   7.32\n",
       "5             6  4.116  2.286  3.512  0.0767  0.0718  1.41   8.80"
      ]
     },
     "execution_count": 9,
     "metadata": {},
     "output_type": "execute_result"
    }
   ],
   "source": [
    "scenarios = pd.read_csv(r'data/selected_scenarios_river(12.5.22).csv')\n",
    "scenarios"
   ]
  },
  {
   "attachments": {},
   "cell_type": "markdown",
   "id": "e34ec86d",
   "metadata": {},
   "source": [
    "Now, let us define the problem. Note that, in this example, the fourth objective function involved no uncertain parameter. Therefore, there is no variation in its values defining the problem. So, we should separate the uncertain and deterministic objective functions. "
   ]
  },
  {
   "cell_type": "code",
   "execution_count": 10,
   "id": "8e291725",
   "metadata": {},
   "outputs": [],
   "source": [
    "n_uncertain_obj = 3\n",
    "n_deterministic_obj = 1"
   ]
  },
  {
   "attachments": {},
   "cell_type": "markdown",
   "id": "c786417e",
   "metadata": {},
   "source": [
    "Finally, we define the corresponding multi-scenario multiobjective optimization (MS-MOP) as follows:\n",
    "\n",
    "* Note that, in MS-MOPs, we often consider each scenario-objective combination as a meta-objective. \n",
    "* Also, notice the argument of the callable objective function is assumed to be array-like."
   ]
  },
  {
   "cell_type": "code",
   "execution_count": 11,
   "id": "3666af2c",
   "metadata": {},
   "outputs": [],
   "source": [
    "def f_multi_scenarios(x: np.ndarray) -> np.ndarray:\n",
    "        \"\"\"\n",
    "        Arguments:\n",
    "        x (np.array): initial variable values. Must be between 0.3 and 1.0.\n",
    "        Returns:\n",
    "        output (np.array): objective values in all selected scenarios.\n",
    "        \"\"\"\n",
    "        x = np.atleast_2d(x)\n",
    "        output = np.zeros((n_uncertain_obj*len(scenarios)+n_deterministic_obj, len(x)))\n",
    "        \n",
    "        for s in range(len(scenarios)):\n",
    "            a = scenarios.a[s]\n",
    "            b = scenarios.b[s]\n",
    "            d = scenarios.d[s]\n",
    "            e = scenarios.e[s]\n",
    "            h = scenarios.h[s]\n",
    "            m = scenarios.m[s]\n",
    "            # Definning the objective functions (negative sign at the beginning is to convert maximization to minimization).\n",
    "            output[s*n_uncertain_obj+0,:] = - (a + (np.log((b/2-1.14)**2) + b**3) * x[:, 0])\n",
    "            output[s*n_uncertain_obj+1,:] = - ((np.log((a/2-1)) + a/2 + 1.5) + d*x[:, 0] + e*x[:, 1] + 0.01 / (h - x[:, 0]**2) + 0.3 / (h - x[:, 1]**2))\n",
    "            output[s*n_uncertain_obj+2,:] = - (m - 0.71 / (1.09 - x[:, 0]**2))\n",
    "\n",
    "        # f_4 has no uncertain parameters and returning a certain value in all scenarios without any variation.\n",
    "        # Multi\n",
    "        output[-1,:] = - (0.96 - 0.96 / (1.09 - x[:, 1]**2))\n",
    "    \n",
    "        return output.T  #np.reshape(meta_objectives, (1,-1))\n"
   ]
  },
  {
   "attachments": {},
   "cell_type": "markdown",
   "id": "3b52d3c8",
   "metadata": {},
   "source": [
    "Define the variables and create the problem object:"
   ]
  },
  {
   "cell_type": "code",
   "execution_count": 12,
   "id": "42d2751a",
   "metadata": {},
   "outputs": [],
   "source": [
    "# Initial variable values need to be between lower and upper bounds\")      \n",
    "x_1 = Variable(\"the proportionate amount of BOD removed from water at the fishery\", 0.5, 0.3, 1.0)\n",
    "x_2 = Variable(\"the proportionate amount of BOD removed from water at the city\", 0.5, 0.3, 1.0)\n",
    "\n",
    "variables = [x_1, x_2]\n",
    "\n",
    "# Creating functions names\n",
    "# The number of objective functions is varied based on the number of considered scenarios in the MS-MOP.\n",
    "Y = []\n",
    "for s in range(len(scenarios)):\n",
    "    Y.extend([f\"f_1{s+1}\", f\"f_2{s+1}\",f\"f_3{s+1}\"])\n",
    "Y.extend([\"f4\"])   \n",
    "    \n",
    "#\n",
    "F = VectorObjective(Y, f_multi_scenarios)\n",
    "\n",
    "problem = MOProblem(variables=variables, objectives=[F])\n"
   ]
  },
  {
   "attachments": {},
   "cell_type": "markdown",
   "id": "2bbe1c13",
   "metadata": {},
   "source": [
    "Now, the problem is fully specified and can be evaluated and played around with."
   ]
  },
  {
   "cell_type": "code",
   "execution_count": 13,
   "id": "ebc78bda",
   "metadata": {},
   "outputs": [
    {
     "name": "stdout",
     "output_type": "stream",
     "text": [
      "N of objectives: 19\n",
      "N of variables: 2\n",
      "N of constraints: 0\n"
     ]
    }
   ],
   "source": [
    "print(\"N of objectives:\", problem.n_of_objectives)\n",
    "print(\"N of variables:\", problem.n_of_variables)\n",
    "print(\"N of constraints:\", problem.n_of_constraints)"
   ]
  },
  {
   "cell_type": "code",
   "execution_count": 14,
   "id": "320e84ec",
   "metadata": {},
   "outputs": [
    {
     "data": {
      "text/plain": [
       "array([[ -4.62022413,  -3.91883125,  -7.3647619 ,  -4.94439366,\n",
       "         -3.70236952,  -9.4347619 ,  -2.6228392 ,  -3.4948555 ,\n",
       "         -4.9947619 ,  -4.75493561,  -3.17679053, -10.9147619 ,\n",
       "         -3.67422413,  -2.85817349,  -6.4747619 ,  -4.27994184,\n",
       "         -3.95587171,  -7.9547619 ,   0.18285714]])"
      ]
     },
     "execution_count": 14,
     "metadata": {},
     "output_type": "execute_result"
    }
   ],
   "source": [
    "f_multi_scenarios(np.array([.5, .5]))"
   ]
  },
  {
   "cell_type": "code",
   "execution_count": 15,
   "id": "e895c661",
   "metadata": {},
   "outputs": [
    {
     "data": {
      "text/plain": [
       "EvaluationResults(objectives=array([[-5.17044827, -4.51927322, -0.32111111, -6.02078732, -4.19039563,\n",
       "        -2.39111111, -1.62567839, -4.60560506,  2.04888889, -6.13787122,\n",
       "        -3.86653663, -3.87111111, -4.22444827, -3.70341209,  0.56888889,\n",
       "        -4.44388368, -4.51897789, -0.91111111,  9.70666667]]), fitness=array([[-5.17044827, -4.51927322, -0.32111111, -6.02078732, -4.19039563,\n",
       "        -2.39111111, -1.62567839, -4.60560506,  2.04888889, -6.13787122,\n",
       "        -3.86653663, -3.87111111, -4.22444827, -3.70341209,  0.56888889,\n",
       "        -4.44388368, -4.51897789, -0.91111111,  9.70666667]]), constraints=None, uncertainity=array([[nan, nan, nan, nan, nan, nan, nan, nan, nan, nan, nan, nan, nan,\n",
       "        nan, nan, nan, nan, nan, nan]]))"
      ]
     },
     "execution_count": 15,
     "metadata": {},
     "output_type": "execute_result"
    }
   ],
   "source": [
    "problem.evaluate([1, 1])"
   ]
  },
  {
   "cell_type": "code",
   "execution_count": 16,
   "id": "ddd1c75a",
   "metadata": {},
   "outputs": [
    {
     "data": {
      "text/plain": [
       "EvaluationResults(objectives=array([[ -4.40013448,  -3.85436297,  -7.5       ,  -4.5138362 ,\n",
       "         -3.63988884,  -9.57      ,  -3.02170352,  -3.41875879,\n",
       "         -5.13      ,  -4.20176137,  -3.10666409, -11.05      ,\n",
       "         -3.45413448,  -2.7886899 ,  -6.61      ,  -4.2143651 ,\n",
       "         -3.89377882,  -8.09      ,  -0.        ]]), fitness=array([[ -4.40013448,  -3.85436297,  -7.5       ,  -4.5138362 ,\n",
       "         -3.63988884,  -9.57      ,  -3.02170352,  -3.41875879,\n",
       "         -5.13      ,  -4.20176137,  -3.10666409, -11.05      ,\n",
       "         -3.45413448,  -2.7886899 ,  -6.61      ,  -4.2143651 ,\n",
       "         -3.89377882,  -8.09      ,  -0.        ]]), constraints=None, uncertainity=array([[nan, nan, nan, nan, nan, nan, nan, nan, nan, nan, nan, nan, nan,\n",
       "        nan, nan, nan, nan, nan, nan]]))"
      ]
     },
     "execution_count": 16,
     "metadata": {},
     "output_type": "execute_result"
    }
   ],
   "source": [
    "problem.evaluate([.3, .3])"
   ]
  },
  {
   "attachments": {},
   "cell_type": "markdown",
   "id": "a216933f",
   "metadata": {},
   "source": [
    "We can also calculate the ideal and nadir vector using DESEO's payoff-table."
   ]
  },
  {
   "cell_type": "code",
   "execution_count": 17,
   "id": "4bbf5944",
   "metadata": {},
   "outputs": [
    {
     "name": "stdout",
     "output_type": "stream",
     "text": [
      "The ideal vector = [-5.17044717e+00 -4.51926899e+00 -7.49999957e+00 -6.02078517e+00\n",
      " -4.19039266e+00 -9.56999957e+00 -3.02170152e+00 -4.60559318e+00\n",
      " -5.12999957e+00 -6.13786846e+00 -3.86653140e+00 -1.10499996e+01\n",
      " -4.22444717e+00 -3.70340457e+00 -6.60999957e+00 -4.44388335e+00\n",
      " -4.51897406e+00 -8.08999957e+00  5.76214960e-07]\n",
      "The nadir vector = [-4.40013558 -3.87415953 -0.32128642 -4.51383835 -3.65854407 -2.39128642\n",
      " -1.62568039 -3.44245614  2.04871358 -4.20176413 -3.12791133 -3.87128642\n",
      " -3.45413558 -2.81011838  0.56871358 -4.21436543 -3.91287893 -0.91128642\n",
      "  9.70642964]\n"
     ]
    }
   ],
   "source": [
    "\n",
    "ideal, nadir = payoff_table_method(problem)\n",
    "\n",
    "print(\"The ideal vector =\", ideal)\n",
    "print(\"The nadir vector =\", nadir)"
   ]
  }
 ],
 "metadata": {
  "kernelspec": {
   "display_name": "Python 3",
   "language": "python",
   "name": "python3"
  },
  "language_info": {
   "codemirror_mode": {
    "name": "ipython",
    "version": 3
   },
   "file_extension": ".py",
   "mimetype": "text/x-python",
   "name": "python",
   "nbconvert_exporter": "python",
   "pygments_lexer": "ipython3",
   "version": "3.9.6"
  }
 },
 "nbformat": 4,
 "nbformat_minor": 5
}
