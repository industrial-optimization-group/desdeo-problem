{
 "cells": [
  {
   "cell_type": "markdown",
   "metadata": {},
   "source": [
    "# How to make and use the test problems"
   ]
  },
  {
   "cell_type": "markdown",
   "metadata": {},
   "source": [
    "Currently supported:\n",
    "* ZDT Problems- ZDT1-4, ZDT6\n",
    "* DTLZ Problems- DTLZ1-7"
   ]
  },
  {
   "cell_type": "markdown",
   "metadata": {},
   "source": [
    "Import the test problem  builder"
   ]
  },
  {
   "cell_type": "code",
   "execution_count": 2,
   "metadata": {},
   "outputs": [],
   "source": [
    "from desdeo_problem.testproblems.TestProblems import test_problem_builder"
   ]
  },
  {
   "cell_type": "markdown",
   "metadata": {},
   "source": [
    "Use `test_problem_builder` to build the necessary `MOProblem` instance, which can be used by methods in desdeo-emo and desdeo-mcdm to solve multiobjective optimization problems"
   ]
  },
  {
   "cell_type": "code",
   "execution_count": 3,
   "metadata": {},
   "outputs": [
    {
     "name": "stdout",
     "output_type": "stream",
     "text": [
      "Help on function test_problem_builder in module desdeo_problem.testproblems.TestProblems:\n",
      "\n",
      "test_problem_builder(name: str, n_of_variables: int = None, n_of_objectives: int = None) -> desdeo_problem.Problem.MOProblem\n",
      "    Build test problems. Currently supported: ZDT1-4, ZDT6, and DTLZ1-7.\n",
      "    \n",
      "    Args:\n",
      "        name (str): Name of the problem in all caps. For example: \"ZDT1\", \"DTLZ4\", etc.\n",
      "        n_of_variables (int, optional): Number of variables. Required for DTLZ problems,\n",
      "            but can be skipped for ZDT problems as they only support one variable value.\n",
      "        n_of_objectives (int, optional): Required for DTLZ problems,\n",
      "            but can be skipped for ZDT problems as they only support one variable value.\n",
      "    \n",
      "    Raises:\n",
      "        ProblemError: When one of many issues occur while building the MOProblem\n",
      "            instance.\n",
      "    \n",
      "    Returns:\n",
      "        MOProblem: The test problem object\n",
      "\n"
     ]
    }
   ],
   "source": [
    "help(test_problem_builder)"
   ]
  },
  {
   "cell_type": "code",
   "execution_count": 4,
   "metadata": {},
   "outputs": [
    {
     "data": {
      "text/plain": [
       "<desdeo_problem.Problem.MOProblem at 0x7f135b2e11d0>"
      ]
     },
     "execution_count": 4,
     "metadata": {},
     "output_type": "execute_result"
    }
   ],
   "source": [
    "zdt1 = test_problem_builder(\"ZDT1\")\n",
    "zdt1"
   ]
  },
  {
   "cell_type": "code",
   "execution_count": 5,
   "metadata": {},
   "outputs": [
    {
     "data": {
      "text/plain": [
       "<desdeo_problem.Problem.MOProblem at 0x7f135b2e1f10>"
      ]
     },
     "execution_count": 5,
     "metadata": {},
     "output_type": "execute_result"
    }
   ],
   "source": [
    "dtlz3 = test_problem_builder(\"DTLZ3\", n_of_objectives= 3, n_of_variables=20)\n",
    "dtlz3"
   ]
  },
  {
   "cell_type": "markdown",
   "metadata": {},
   "source": [
    "How to use these instances for other purposes, such as generating data:"
   ]
  },
  {
   "cell_type": "code",
   "execution_count": 6,
   "metadata": {},
   "outputs": [],
   "source": [
    "import numpy as np"
   ]
  },
  {
   "cell_type": "markdown",
   "metadata": {},
   "source": [
    "Generate input data as desired:"
   ]
  },
  {
   "cell_type": "code",
   "execution_count": 7,
   "metadata": {},
   "outputs": [
    {
     "name": "stdout",
     "output_type": "stream",
     "text": [
      "[[0.65432845 0.46339094 0.02342948 0.08220524 0.03377441 0.92307239\n",
      "  0.69699356 0.83342787 0.11406724 0.0468649  0.42369502 0.15868977\n",
      "  0.24540527 0.65142966 0.17579169 0.1402396  0.15205081 0.42899137\n",
      "  0.48673544 0.69258062 0.77058093 0.93453869 0.77517701 0.15438004\n",
      "  0.15911588 0.12405954 0.89552672 0.57436468 0.27443847 0.91488238]\n",
      " [0.20218123 0.77068978 0.09856094 0.6386961  0.70682015 0.1515433\n",
      "  0.47423398 0.13309778 0.85170965 0.56463202 0.88138408 0.09615243\n",
      "  0.17352115 0.64705023 0.62444736 0.80491254 0.55524366 0.71548334\n",
      "  0.95248434 0.57405183 0.96720187 0.72799976 0.11919828 0.80669864\n",
      "  0.57016157 0.45902643 0.47720077 0.97555978 0.84885469 0.08951391]\n",
      " [0.17948859 0.64416554 0.16134909 0.96979695 0.44500164 0.16444806\n",
      "  0.09824354 0.61856644 0.35831773 0.37469693 0.16241038 0.39489443\n",
      "  0.71633839 0.44690858 0.46054351 0.39599502 0.40689698 0.67137962\n",
      "  0.17592951 0.261154   0.71445652 0.58831944 0.90582891 0.31303201\n",
      "  0.86534914 0.62596567 0.99971633 0.72522507 0.95910125 0.41872867]]\n"
     ]
    }
   ],
   "source": [
    "number_of_samples = 3\n",
    "zdt_data = np.random.random((number_of_samples, 30))  # 30 is the number of variables in the ZDT1 problem\n",
    "print(zdt_data)"
   ]
  },
  {
   "cell_type": "code",
   "execution_count": 8,
   "metadata": {},
   "outputs": [],
   "source": [
    "dtlz_data = np.random.random((number_of_samples, 20)) # We put the number of variables earlier as 20"
   ]
  },
  {
   "cell_type": "markdown",
   "metadata": {},
   "source": [
    "`<MOProblem object>.evaluate(data)` returns a tuple containing the objective values and constraint violations"
   ]
  },
  {
   "cell_type": "code",
   "execution_count": 9,
   "metadata": {},
   "outputs": [
    {
     "data": {
      "text/plain": [
       "EvaluationResults(objectives=array([[0.65432845, 3.05447239],\n",
       "       [0.20218123, 4.99588821],\n",
       "       [0.17948859, 4.65976978]]), fitness=array([[0.65432845, 3.05447239],\n",
       "       [0.20218123, 4.99588821],\n",
       "       [0.17948859, 4.65976978]]), constraints=None, uncertainity=array([[nan, nan],\n",
       "       [nan, nan],\n",
       "       [nan, nan]]))"
      ]
     },
     "execution_count": 9,
     "metadata": {},
     "output_type": "execute_result"
    }
   ],
   "source": [
    "zdt_obj_val = zdt1.evaluate(zdt_data)\n",
    "zdt_obj_val"
   ]
  },
  {
   "cell_type": "markdown",
   "metadata": {},
   "source": [
    "There are no constraints in the zdt or dtlz problems, hence cons_val is None"
   ]
  },
  {
   "cell_type": "code",
   "execution_count": 10,
   "metadata": {},
   "outputs": [
    {
     "data": {
      "text/plain": [
       "EvaluationResults(objectives=array([[ 568.72789675,  321.12302318, 1815.13677464],\n",
       "       [ 792.35779356, 1011.09215221, 1782.21310707],\n",
       "       [ 862.33321531,  735.93917917, 1390.69213051]]), fitness=array([[ 568.72789675,  321.12302318, 1815.13677464],\n",
       "       [ 792.35779356, 1011.09215221, 1782.21310707],\n",
       "       [ 862.33321531,  735.93917917, 1390.69213051]]), constraints=None, uncertainity=array([[nan, nan, nan],\n",
       "       [nan, nan, nan],\n",
       "       [nan, nan, nan]]))"
      ]
     },
     "execution_count": 10,
     "metadata": {},
     "output_type": "execute_result"
    }
   ],
   "source": [
    "dtlz_obj_val = dtlz3.evaluate(dtlz_data)\n",
    "dtlz_obj_val"
   ]
  }
 ],
 "metadata": {
  "kernelspec": {
   "display_name": "desdeo-problem",
   "language": "python",
   "name": "desdeo-problem"
  },
  "language_info": {
   "codemirror_mode": {
    "name": "ipython",
    "version": 3
   },
   "file_extension": ".py",
   "mimetype": "text/x-python",
   "name": "python",
   "nbconvert_exporter": "python",
   "pygments_lexer": "ipython3",
   "version": "3.7.5rc1"
  }
 },
 "nbformat": 4,
 "nbformat_minor": 2
}
