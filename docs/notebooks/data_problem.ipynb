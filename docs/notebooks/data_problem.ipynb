{
 "cells": [
  {
   "cell_type": "markdown",
   "metadata": {},
   "source": [
    "# Data based problem\n",
    "\n",
    "If the problem to be optimized has already been solved for a representation of its' Pareto efficient front, it can be defined as a ScalarDataProblem.\n",
    "\n",
    "Suppose we have a problem with 2 decision variables and 4 objectives. In this case, it is the river pollution problem as defined in https://ieeexplore.ieee.org/document/35354\n",
    "\n",
    "The computed Pareto efficient solutions and the corresponding objective vector values have been computed in the file 'riverpollution.dat'. There is a total of 500 entries. Begin by importing relevant classes and laoding the data."
   ],
   "execution_count": null,
   "outputs": []
  },
  {
   "cell_type": "code",
   "execution_count": 1,
   "metadata": {},
   "outputs": [],
   "source": [
    "# NOTE: This will soon be depreciated.\n",
    "from desdeo_problem.Problem import ScalarDataProblem\n",
    "\n",
    "import numpy as np\n",
    "\n",
    "data = np.loadtxt(\"./data/riverpollution.dat\")"
   ]
  },
  {
   "cell_type": "markdown",
   "metadata": {},
   "source": [
    "The first 2 entries of each row are the decision variables, and the last 4 the objective function values."
   ],
   "execution_count": null,
   "outputs": []
  },
  {
   "cell_type": "code",
   "execution_count": 2,
   "metadata": {},
   "outputs": [],
   "source": [
    "xs, fs = data[:, 0:2], data[:, 2:]"
   ]
  },
  {
   "cell_type": "markdown",
   "metadata": {},
   "source": [
    "The problem can now be defined:"
   ],
   "execution_count": null,
   "outputs": []
  },
  {
   "cell_type": "code",
   "execution_count": 3,
   "metadata": {},
   "outputs": [],
   "source": [
    "problem = ScalarDataProblem(xs, fs)"
   ]
  },
  {
   "cell_type": "markdown",
   "metadata": {},
   "source": [
    "That's it. Now the problem is defined and can be further utilized. Notice that there are no constraints. It is assumed that all the entries in the data file are feasible. The warning has to do with the fact, that the data is discrete, therefore the evaluations for specific decision variable values have to be approximated somehow. At the moment, the closest pair of decision variables is searched for in the data. Later on, a surrogate model for the data might be build to have a better approximation."
   ],
   "execution_count": null,
   "outputs": []
  },
  {
   "cell_type": "code",
   "execution_count": 4,
   "metadata": {},
   "outputs": [
    {
     "output_type": "stream",
     "name": "stdout",
     "text": "N of objectives: 4\nN of variables: 2\nSingle decision vector evaluaion: (array([-5.6304735 , -2.87892556, -7.06008234,  0.05013393]),)\n"
    }
   ],
   "source": [
    "print(\"N of objectives:\", problem.n_of_objectives)\n",
    "print(\"N of variables:\", problem.n_of_variables)\n",
    "\n",
    "print(\"Single decision vector evaluaion:\", problem.evaluate([0.4, 0.5]))"
   ]
  },
  {
   "cell_type": "code",
   "execution_count": null,
   "metadata": {},
   "outputs": [],
   "source": []
  }
 ],
 "metadata": {
  "kernelspec": {
   "display_name": "desdeo-problem",
   "language": "python",
   "name": "desdeo-problem"
  },
  "language_info": {
   "codemirror_mode": {
    "name": "ipython",
    "version": 3
   },
   "file_extension": ".py",
   "mimetype": "text/x-python",
   "name": "python",
   "nbconvert_exporter": "python",
   "pygments_lexer": "ipython3",
   "version": "3.8.2-final"
  }
 },
 "nbformat": 4,
 "nbformat_minor": 2
}